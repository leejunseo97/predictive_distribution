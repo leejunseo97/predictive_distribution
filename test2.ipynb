{
 "cells": [
  {
   "cell_type": "code",
   "execution_count": null,
   "metadata": {},
   "outputs": [],
   "source": []
  }
 ],
 "metadata": {
  "kernelspec": {
   "display_name": "Python 3.10.6 ('venv')",
   "language": "python",
   "name": "python3"
  },
  "language_info": {
   "name": "python",
   "version": "3.10.6"
  },
  "orig_nbformat": 4,
  "vscode": {
   "interpreter": {
    "hash": "5abeb62521658fd0f26441a6fc44ec2ee59847b94c71156a9968c709a82adb9c"
   }
  }
 },
 "nbformat": 4,
 "nbformat_minor": 2
}
